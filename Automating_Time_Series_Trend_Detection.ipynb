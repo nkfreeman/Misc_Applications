{
 "cells": [
  {
   "cell_type": "markdown",
   "metadata": {},
   "source": [
    "## Demonstration: Automating the Detection of Trends via Python\n",
    "\n",
    "This note book demonstrates how Python can be used to automate the process of checking for trends in time series data. It assumes that data files that include time series data for multiple products exist in a sub-folder of the working directory. The following code block imports several libraries that we will use."
   ]
  },
  {
   "cell_type": "code",
   "execution_count": 1,
   "metadata": {},
   "outputs": [],
   "source": [
    "import pandas as pd\n",
    "import numpy as np \n",
    "import matplotlib.pyplot as plt\n",
    "import os"
   ]
  },
  {
   "cell_type": "markdown",
   "metadata": {},
   "source": [
    "The following code block allows a user to define a subfolder that includes the data files with the time series data for the various products and generate plots of each time series. The plots are written to a sub-folder of the current working directory named *images*. The code assumes that the each data files has columns:\n",
    "- `Period` that specifies the period, and \n",
    "- `Value` that specifes the time series value in each period.\n",
    "\n",
    "Of course, you would not want to inspect the images to detect tie series trends because this would be rather time-consuming when the number of products is large. However, we will use these plots to check the correctness of our computational approach."
   ]
  },
  {
   "cell_type": "code",
   "execution_count": 2,
   "metadata": {},
   "outputs": [],
   "source": [
    "# Identify the sub-folder that contains the data files\n",
    "sub_folder = 'data_small'\n",
    "\n",
    "# Loop through all files in the sub-folder\n",
    "for file in os.listdir(sub_folder +'/'):\n",
    "    \n",
    "    # Update the filename variable to include the\n",
    "    # sub-folder and file name\n",
    "    filename = sub_folder +'/' + file\n",
    "    \n",
    "    # Use Pandas to read the current csv\n",
    "    # file into a DataFrame\n",
    "    data = pd.read_csv(filename)\n",
    "        \n",
    "    # Plot the time series\n",
    "    fig, ax = plt.subplots(1,1)\n",
    "    ax.plot(data['Period'], data['Value'])\n",
    "    ax.set_xlabel('Period')\n",
    "    ax.set_ylabel('Value')\n",
    "    ax.set_ylim(bottom = data['Value'].min() - (data['Value'].max()-data['Value'].min()),\n",
    "               top = data['Value'].max() + (data['Value'].max()-data['Value'].min()))\n",
    "    ax.set_title(file[:-4] + ' Values')\n",
    "    \n",
    "    # Save the plot in the images sub-folder\n",
    "    plt.savefig('images/' + file[:-4] + '.pdf')\n",
    "    \n",
    "    # Close the plot\n",
    "    plt.close()"
   ]
  },
  {
   "cell_type": "markdown",
   "metadata": {},
   "source": [
    "For each data file in the user-specified sub-folder, the following code block:\n",
    "\n",
    "1. imports the data into a Pandas `DataFrame` object,\n",
    "2. fits a first-degree polynomial (i.e., a line) to the current data, and \n",
    "3. stores the current product, fit intercept, and fit slope in separate lists.    "
   ]
  },
  {
   "cell_type": "code",
   "execution_count": 3,
   "metadata": {},
   "outputs": [],
   "source": [
    "products = []\n",
    "intercepts = []    \n",
    "slopes = []\n",
    "\n",
    "# Identify the sub-folder that contains the data files\n",
    "sub_folder = 'data_small'\n",
    "\n",
    "# Loop through all files in the sub-folder\n",
    "for file in os.listdir(sub_folder +'/'):\n",
    "    \n",
    "    # Update the filename variable to include the\n",
    "    # sub-folder and file name\n",
    "    filename = sub_folder +'/' + file\n",
    "    \n",
    "    # Use Pandas to read the current csv\n",
    "    # file into a DataFrame\n",
    "    data = pd.read_csv(filename)\n",
    "    \n",
    "    # Add the current product name to the products list\n",
    "    products.append(file[:-4])\n",
    "    \n",
    "    # Fit a first-degree polynomial (i.e., a line)\n",
    "    # to the current time series\n",
    "    est = np.polyfit(data['Period'], data['Value'], 1)\n",
    "    \n",
    "    # Append the fit slope to the slopes list\n",
    "    slopes.append(est[0])\n",
    "    \n",
    "    # Append the fit intercept to the intercepts list\n",
    "    intercepts.append(est[1])"
   ]
  },
  {
   "cell_type": "markdown",
   "metadata": {},
   "source": [
    "The following code block:\n",
    "    \n",
    "1. uses the lists constructed in the previous code block to create a dictionary,\n",
    "2. uses the dictionary to define a Pandas `DataFrame`,\n",
    "3. adds a column to the `DataFrame` that captures the absolute percent change as $abs(Slope/Intercept)$,\n",
    "4. sorts the `DataFrame` by absolute percent change, from high to low, and\n",
    "5. writes the `DataFrame` object to an Excel workbook."
   ]
  },
  {
   "cell_type": "code",
   "execution_count": 4,
   "metadata": {},
   "outputs": [],
   "source": [
    "# Create a dictionary from the created lists\n",
    "my_dict = {'Product': products,\n",
    "           'Intercept': intercepts,\n",
    "           'Slope': slopes}\n",
    "\n",
    "# Use the dictionary to create a Pandas DataFrame\n",
    "# object that is stored in the variable summary\n",
    "summary = pd.DataFrame.from_dict(my_dict)\n",
    "\n",
    "# Calculate the absolute percent change for each row of the \n",
    "# summary object\n",
    "summary['Percent_Change'] = abs(summary['Slope']/summary['Intercept'])\n",
    "\n",
    "# Sort the data by percent change, from high to low\n",
    "summary = summary.sort_values(by = 'Percent_Change', ascending = False)\n",
    "\n",
    "# Write the summary object to an Excel workbook\n",
    "summary = summary.to_excel('Summary.xlsx', index = False)"
   ]
  }
 ],
 "metadata": {
  "kernelspec": {
   "display_name": "Python 3",
   "language": "python",
   "name": "python3"
  },
  "language_info": {
   "codemirror_mode": {
    "name": "ipython",
    "version": 3
   },
   "file_extension": ".py",
   "mimetype": "text/x-python",
   "name": "python",
   "nbconvert_exporter": "python",
   "pygments_lexer": "ipython3",
   "version": "3.7.1"
  }
 },
 "nbformat": 4,
 "nbformat_minor": 2
}
